{
  "cells": [
    {
      "cell_type": "markdown",
      "metadata": {
        "id": "view-in-github",
        "colab_type": "text"
      },
      "source": [
        "<a href=\"https://colab.research.google.com/github/erickkigai/Fraud-Detection/blob/main/Python_Practical_1.ipynb\" target=\"_parent\"><img src=\"https://colab.research.google.com/assets/colab-badge.svg\" alt=\"Open In Colab\"/></a>"
      ]
    },
    {
      "cell_type": "markdown",
      "metadata": {
        "id": "qHOOObDwMfkc"
      },
      "source": [
        "# **Python Programming for Machine Learning**"
      ]
    },
    {
      "cell_type": "markdown",
      "metadata": {
        "id": "0ipwIDxyLzEN"
      },
      "source": [
        "**Guidelines:**\n",
        "\n",
        "Save a copy of this Notebook to your drive and work and share after to your github account.\n",
        "\n",
        "Powerpoint: [Download](https://drive.google.com/file/d/1ut8RJ44qjfM4uSX9QyKZ4dIO2AzKPNun/view?usp=share_link)\n",
        "\n",
        "1. Read the instructions carefully before attempting each exercise.\n",
        "2. Make sure to test your code with different input values to ensure it works as expected.\n",
        "3. Use appropriate variable names and comments to make your code easy to understand.\n",
        "4. If you're unsure how to solve an exercise, try breaking it down into smaller parts and tackling each part separately.\n",
        "5. Feel free to use online resources or ask for help if you get stuck.\n",
        "\n",
        "\n",
        "\n",
        "**Warnings:**\n",
        "\n",
        "1. Be careful when using user input, as it may not always be in the expected format. Make sure to handle errors and invalid input appropriately.\n",
        "\n",
        "2. When working with floats, be aware that floating point arithmetic can sometimes result in rounding errors or unexpected behavior.\n",
        "Be careful when swapping values in Exercise 8, as you may accidentally overwrite one of the values.\n",
        "\n",
        "3. When checking if a string contains a certain substring in Exercise 14, be aware that the function you use may be case-sensitive.\n",
        "\n",
        "4. Be careful when checking if the difference of two floats is less than a threshold in Exercise 13, as floating point arithmetic may result in unexpected behavior.\n",
        "\n",
        "5. Comment on your work for better understanding."
      ]
    },
    {
      "cell_type": "markdown",
      "metadata": {
        "id": "0DjsAF5JMpI4"
      },
      "source": [
        "Write a program that takes an integer input from the user and prints out its square."
      ]
    },
    {
      "cell_type": "code",
      "execution_count": null,
      "metadata": {
        "colab": {
          "base_uri": "https://localhost:8080/"
        },
        "id": "nIcy1W69LnNx",
        "outputId": "39e4a36e-4801-462c-a10d-092601d5f775"
      },
      "outputs": [
        {
          "name": "stdout",
          "output_type": "stream",
          "text": [
            "the square of 2 is 4\n"
          ]
        }
      ],
      "source": [
        "# Getting integers to printing\n",
        "# I chose the integer of 2\n",
        "n = 2\n",
        "#square\n",
        "square = n*2\n",
        "print('the square of 2 is', int(2*2))"
      ]
    },
    {
      "cell_type": "code",
      "execution_count": null,
      "metadata": {
        "colab": {
          "base_uri": "https://localhost:8080/"
        },
        "id": "iH1no04v5yPW",
        "outputId": "6281a2c2-d859-476d-e011-61b464196308"
      },
      "outputs": [
        {
          "name": "stdout",
          "output_type": "stream",
          "text": [
            "Enter a number4\n",
            "The Square 4 is: 16\n"
          ]
        }
      ],
      "source": [
        "# Getting integers to printing\n",
        "a = input(\"Enter a number\")  # a = int(input(\"Enter a number\"))\n",
        "square = int(a) ** 2 # square = a ** 2\n",
        "print('The Square', a , 'is:', square)"
      ]
    },
    {
      "cell_type": "markdown",
      "metadata": {
        "id": "Tj6gWJ-TMv66"
      },
      "source": [
        "Write a program that takes two integer inputs from the user and prints out their sum, difference, product, and quotient."
      ]
    },
    {
      "cell_type": "code",
      "execution_count": null,
      "metadata": {
        "colab": {
          "base_uri": "https://localhost:8080/"
        },
        "id": "eT-b-CfhMzWJ",
        "outputId": "e63c60b4-5de8-4730-9d5b-7285239e98a6"
      },
      "outputs": [
        {
          "name": "stdout",
          "output_type": "stream",
          "text": [
            "Enter first number:2\n",
            "Enter Second number:4\n",
            "The sum of 2 and 4 is 6\n",
            "The difference of 2 and 4 is -2\n",
            "The product of 2 and 4 is 8\n",
            "The quotient of 2 and 4 is 0.5\n"
          ]
        }
      ],
      "source": [
        "## Getting two integers\n",
        "# consider two integers of 4 and 6\n",
        "# Input two integer numbers\n",
        "num1 = int(input('Enter first number:'))\n",
        "num2 = int(input('Enter Second number:'))\n",
        "\n",
        "# Calculate the sum, difference, product, and quotient\n",
        "sum = num1 + num2\n",
        "diff = num1 - num2\n",
        "prod = num1 * num2\n",
        "quot = num1 / num2\n",
        "\n",
        "# Print the values\n",
        "print(\"The sum of\", num1, \"and\", num2, \"is\", sum)\n",
        "print(\"The difference of\", num1, \"and\", num2, \"is\", diff)\n",
        "print(\"The product of\", num1, \"and\", num2, \"is\", prod)\n",
        "print(\"The quotient of\", num1, \"and\", num2, \"is\", quot)\n"
      ]
    },
    {
      "cell_type": "markdown",
      "metadata": {
        "id": "XPwkKeBzMzwy"
      },
      "source": [
        "Write a program that takes a float input from the user and rounds it to the nearest integer."
      ]
    },
    {
      "cell_type": "code",
      "execution_count": null,
      "metadata": {
        "colab": {
          "base_uri": "https://localhost:8080/"
        },
        "id": "t0S8Ivy3NEBK",
        "outputId": "762e6c99-8e1e-4bc4-8fa0-989a9a3edcb6"
      },
      "outputs": [
        {
          "name": "stdout",
          "output_type": "stream",
          "text": [
            "Enter a number2\n",
            "2\n",
            "2\n"
          ]
        }
      ],
      "source": [
        "#Getting a float into an integer\n",
        "number = float(input(\"Enter a number\"))\n",
        "rounded = round(number)\n",
        "int_rount = int(number)\n",
        "print(rounded)\n",
        "print(int_rount)"
      ]
    },
    {
      "cell_type": "markdown",
      "metadata": {
        "id": "e8xEiTPqNEf7"
      },
      "source": [
        "Write a program that takes a string input from the user and prints out its length."
      ]
    },
    {
      "cell_type": "code",
      "execution_count": null,
      "metadata": {
        "colab": {
          "base_uri": "https://localhost:8080/"
        },
        "id": "QNWucVFHNHoD",
        "outputId": "5d2c2ffb-fd2e-4c3f-f173-d1a864024e68"
      },
      "outputs": [
        {
          "name": "stdout",
          "output_type": "stream",
          "text": [
            "The length of abel 4\n"
          ]
        }
      ],
      "source": [
        "## Getting a string and printing it out using len funtion\n",
        "n = 'abel'\n",
        "#length\n",
        "length = len(n)\n",
        "# Printing it's length\n",
        "print('The length of', n , length) # print('The length of is', n , len(n))\n"
      ]
    },
    {
      "cell_type": "markdown",
      "metadata": {
        "id": "Q6uZ4OQbNIZS"
      },
      "source": [
        "Write a program that takes a string input from the user and prints out its first and last characters."
      ]
    },
    {
      "cell_type": "code",
      "execution_count": null,
      "metadata": {
        "colab": {
          "base_uri": "https://localhost:8080/"
        },
        "id": "Ks8l4Q9kNL9L",
        "outputId": "7e0ca20e-b799-4e81-cd7e-90c2f6d548d5"
      },
      "outputs": [
        {
          "name": "stdout",
          "output_type": "stream",
          "text": [
            "a\n",
            "b\n",
            "e\n",
            "l\n"
          ]
        }
      ],
      "source": [
        "## Getting the first and last characters of a string\n",
        "n = 'abel'\n",
        "\n",
        "for char in n:\n",
        "  print(char)"
      ]
    },
    {
      "cell_type": "markdown",
      "metadata": {
        "id": "WCHim8cENMaS"
      },
      "source": [
        "Write a program that takes two string inputs from the user and concatenates them."
      ]
    },
    {
      "cell_type": "code",
      "execution_count": null,
      "metadata": {
        "colab": {
          "base_uri": "https://localhost:8080/"
        },
        "id": "khjMlQ8-NPZC",
        "outputId": "6525d04a-bd8f-4af7-c9aa-f53c2bfdd8ff"
      },
      "outputs": [
        {
          "name": "stdout",
          "output_type": "stream",
          "text": [
            "acadia mango\n"
          ]
        }
      ],
      "source": [
        "## Getting the strings and concatenating them \n",
        "n= 'acadia'\n",
        "m = 'mango'\n",
        "name = n + ' ' + m\n",
        "print(name)"
      ]
    },
    {
      "cell_type": "markdown",
      "metadata": {
        "id": "0MHCi7DHNPzK"
      },
      "source": [
        "Write a program that takes a string input from the user and prints out each character on a new line."
      ]
    },
    {
      "cell_type": "code",
      "execution_count": null,
      "metadata": {
        "colab": {
          "base_uri": "https://localhost:8080/",
          "height": 204
        },
        "id": "-BXOi1hyNUYc",
        "outputId": "859b08d1-47ad-41da-9a1d-6dbe789020b6"
      },
      "outputs": [
        {
          "ename": "NameError",
          "evalue": "ignored",
          "output_type": "error",
          "traceback": [
            "\u001b[0;31m---------------------------------------------------------------------------\u001b[0m",
            "\u001b[0;31mNameError\u001b[0m                                 Traceback (most recent call last)",
            "\u001b[0;32m<ipython-input-22-f2a3597bb468>\u001b[0m in \u001b[0;36m<cell line: 3>\u001b[0;34m()\u001b[0m\n\u001b[1;32m      1\u001b[0m \u001b[0;31m## Getting a string\u001b[0m\u001b[0;34m\u001b[0m\u001b[0;34m\u001b[0m\u001b[0m\n\u001b[1;32m      2\u001b[0m \u001b[0mm\u001b[0m \u001b[0;34m=\u001b[0m \u001b[0;34m'abel'\u001b[0m\u001b[0;34m\u001b[0m\u001b[0;34m\u001b[0m\u001b[0m\n\u001b[0;32m----> 3\u001b[0;31m \u001b[0mprint\u001b[0m\u001b[0;34m(\u001b[0m\u001b[0;34m'each character on a new line'\u001b[0m\u001b[0;34m,\u001b[0m \u001b[0mstr\u001b[0m\u001b[0;34m(\u001b[0m\u001b[0ma\u001b[0m\u001b[0;34m,\u001b[0m\u001b[0mb\u001b[0m\u001b[0;34m,\u001b[0m\u001b[0me\u001b[0m\u001b[0;34m,\u001b[0m\u001b[0ml\u001b[0m\u001b[0;34m)\u001b[0m\u001b[0;34m)\u001b[0m\u001b[0;34m\u001b[0m\u001b[0;34m\u001b[0m\u001b[0m\n\u001b[0m",
            "\u001b[0;31mNameError\u001b[0m: name 'a' is not defined"
          ]
        }
      ],
      "source": [
        "## Getting a string\n",
        "m = 'abel'\n",
        "print('each character on a new line', str(m))"
      ]
    },
    {
      "cell_type": "markdown",
      "metadata": {
        "id": "R9He6vFCNUsa"
      },
      "source": [
        "Write a program that takes two integer inputs from the user and swaps their values."
      ]
    },
    {
      "cell_type": "code",
      "execution_count": null,
      "metadata": {
        "id": "Qye59Ltbhw0z"
      },
      "outputs": [],
      "source": [
        "# take integer inputs from user\n",
        "a = int(input('8'))\n",
        "b = int(input(12))\n",
        "# swap the values (a, b)"
      ]
    },
    {
      "cell_type": "markdown",
      "metadata": {
        "id": "YXEHiJOxNcLC"
      },
      "source": [
        "Write a program that takes a string input from the user and converts it to an integer."
      ]
    },
    {
      "cell_type": "code",
      "execution_count": null,
      "metadata": {
        "id": "Nyu5jmEaNf-k"
      },
      "outputs": [],
      "source": [
        "string_input = int(\"enter a string: \")\n",
        "#convert string to integer\n",
        "integer_output = int(string_input)\n",
        "# print the output\n",
        "print(\"input string: \", string_input)\n",
        "print(\"output integer: \", integer_output)"
      ]
    },
    {
      "cell_type": "markdown",
      "metadata": {
        "id": "c2H8oFf-NgTq"
      },
      "source": [
        "Write a program that takes a string input from the user and checks if it is a palindrome (i.e., reads the same forwards and backwards)."
      ]
    },
    {
      "cell_type": "code",
      "execution_count": null,
      "metadata": {
        "colab": {
          "base_uri": "https://localhost:8080/"
        },
        "id": "Uf4XGyVMNjT6",
        "outputId": "bd25481e-a63c-48cd-fca7-5809da12c6d1"
      },
      "outputs": [
        {
          "name": "stdout",
          "output_type": "stream",
          "text": [
            "madam:madam\n",
            "yes it is a palindrome \n"
          ]
        }
      ],
      "source": [
        "s = input(\"madam:\")\n",
        "reverse = s[::-1] # indexing\n",
        "if(s==reverse):\n",
        "  print(\"yes it is a palindrome \")\n",
        "else:\n",
        "    print(\"no it is not a palindrome \")"
      ]
    },
    {
      "cell_type": "markdown",
      "metadata": {
        "id": "p43L90sYNjpy"
      },
      "source": [
        "Write a program that takes two integer inputs from the user and checks if they are equal."
      ]
    },
    {
      "cell_type": "code",
      "execution_count": null,
      "metadata": {
        "colab": {
          "base_uri": "https://localhost:8080/"
        },
        "id": "9FnUyjZhNmei",
        "outputId": "655ec114-862d-4f07-e8b9-fbda7c62745c"
      },
      "outputs": [
        {
          "name": "stdout",
          "output_type": "stream",
          "text": [
            "enter the first integer 5\n",
            "enter the second integer 7\n",
            "The integers are not equal.\n"
          ]
        }
      ],
      "source": [
        "# take integer input from user\n",
        "int1 = int(input('enter the first integer '))\n",
        "int2 = int(input('enter the second integer '))\n",
        "# check if the integers are equal\n",
        "if int1 == int2:\n",
        "  print ('the integers are equal.')\n",
        "else:\n",
        "  print('The integers are not equal.')"
      ]
    },
    {
      "cell_type": "markdown",
      "metadata": {
        "id": "ZuuprAScNqLL"
      },
      "source": [
        "Write a program that takes two float inputs from the user and checks if their difference is less than a certain threshold (e.g., 0.0001)."
      ]
    },
    {
      "cell_type": "code",
      "execution_count": null,
      "metadata": {
        "colab": {
          "base_uri": "https://localhost:8080/"
        },
        "id": "ta8ZaS34NsiT",
        "outputId": "9ae81c3c-1509-47c9-cb11-6d1f9a469ee7"
      },
      "outputs": [
        {
          "name": "stdout",
          "output_type": "stream",
          "text": [
            "Enter the first float number10\n",
            "Enter the Second float number5\n",
            "No, its Greater than.\n"
          ]
        }
      ],
      "source": [
        "# take input from user\n",
        "int1 = int(input('Enter the first float number'))\n",
        "int2 = int(input('Enter the Second float number'))\n",
        "\n",
        "threshold = 0.0001\n",
        "\n",
        "dif = int1 - int2  # abs(int1, int2)\n",
        "\n",
        "# check if dif is less that threshold\n",
        "if dif < threshold :\n",
        "  print('Yes, its less than.')\n",
        "else:\n",
        "  print('No, its Greater than.')\n"
      ]
    },
    {
      "cell_type": "code",
      "execution_count": null,
      "metadata": {
        "colab": {
          "base_uri": "https://localhost:8080/"
        },
        "id": "nGGoM8H5V5PP",
        "outputId": "24ba7476-5f60-4794-fb11-db8af1446ca9"
      },
      "outputs": [
        {
          "name": "stdout",
          "output_type": "stream",
          "text": [
            "Enter the first float number10\n",
            "Enter the Second float number5\n",
            "No, its Greater than.\n"
          ]
        }
      ],
      "source": [
        "def check (a,b):\n",
        "\n",
        "  threshold = 0.0001\n",
        "  dif = a - b\n",
        "\n",
        "  # check if dif is less that threshold\n",
        "  if dif < threshold :\n",
        "    result = 'Yes, its less than.'\n",
        "  else:\n",
        "    result = 'No, its Greater than.'\n",
        "\n",
        "  return result\n",
        "\n",
        "# take input from user\n",
        "int1 = int(input('Enter the first float number'))\n",
        "int2 = int(input('Enter the Second float number'))\n",
        "\n",
        "x = check(int1, int2)\n",
        "\n",
        "print(x)\n"
      ]
    },
    {
      "cell_type": "markdown",
      "metadata": {
        "id": "8PJP2VF_Ns7j"
      },
      "source": [
        "Write a program that takes a string input from the user and checks if it contains a certain substring."
      ]
    },
    {
      "cell_type": "code",
      "execution_count": null,
      "metadata": {
        "colab": {
          "base_uri": "https://localhost:8080/"
        },
        "id": "ndlPeGR9NvHa",
        "outputId": "64057306-93b2-4d79-ce21-94162438336a"
      },
      "outputs": [
        {
          "name": "stdout",
          "output_type": "stream",
          "text": [
            "Enter a stringMicrosoft\n",
            "Enter a substring to search forsoft\n",
            "Microsoft contains substring soft\n"
          ]
        }
      ],
      "source": [
        "string = input('Enter a string')\n",
        "substring = input('Enter a substring to search for')\n",
        "\n",
        "if substring in string:\n",
        "  print( string,'contains substring', substring)\n",
        "\n",
        "else:\n",
        "   print( string,'Does not contain substring', substring)\n"
      ]
    },
    {
      "cell_type": "markdown",
      "metadata": {
        "id": "T60nqIoJNvhr"
      },
      "source": [
        "Write a program that takes two integer inputs from the user and checks if their sum is even."
      ]
    },
    {
      "cell_type": "code",
      "execution_count": null,
      "metadata": {
        "colab": {
          "base_uri": "https://localhost:8080/"
        },
        "id": "R7ct0p1_OFOj",
        "outputId": "ad954f63-853d-4146-a8e4-a58b675c4ac2"
      },
      "outputs": [
        {
          "name": "stdout",
          "output_type": "stream",
          "text": [
            "Enter the first integer5\n",
            "Enter the Second integer6\n",
            "The sum of 5 and 6 is odd\n"
          ]
        }
      ],
      "source": [
        "\n",
        "num1 = int(input(\"Enter the first integer\")) \n",
        "num2 = int(input(\"Enter the Second integer\")) \n",
        "\n",
        "# Getting sum\n",
        "sum = num1 + num2\n",
        "\n",
        "# check\n",
        "if sum % 2 == 0:\n",
        "  print('The sum of', num1, 'and', num2, 'is even') \n",
        "\n",
        "else:\n",
        "  print('The sum of', num1, 'and', num2, 'is odd') \n"
      ]
    },
    {
      "cell_type": "markdown",
      "metadata": {
        "id": "Tj0vTgA_wCdg"
      },
      "source": []
    },
    {
      "cell_type": "code",
      "execution_count": null,
      "metadata": {
        "colab": {
          "background_save": true,
          "base_uri": "https://localhost:8080/",
          "height": 149
        },
        "id": "tbfO5mEvwB7N",
        "outputId": "0d9066e6-84a0-427b-8c0c-441026de4c59"
      },
      "outputs": [
        {
          "ename": "SyntaxError",
          "evalue": "ignored",
          "output_type": "error",
          "traceback": [
            "\u001b[0;36m  File \u001b[0;32m\"<ipython-input-3-7b6ac4c36178>\"\u001b[0;36m, line \u001b[0;32m1\u001b[0m\n\u001b[0;31m    Import math\u001b[0m\n\u001b[0m           ^\u001b[0m\n\u001b[0;31mSyntaxError\u001b[0m\u001b[0;31m:\u001b[0m invalid syntax\n"
          ]
        }
      ],
      "source": [
        "Import math as m"
      ]
    },
    {
      "cell_type": "markdown",
      "metadata": {
        "id": "-89NDCNWZ_92"
      },
      "source": []
    }
  ],
  "metadata": {
    "colab": {
      "provenance": [],
      "include_colab_link": true
    },
    "kernelspec": {
      "display_name": "Python 3",
      "name": "python3"
    },
    "language_info": {
      "name": "python"
    }
  },
  "nbformat": 4,
  "nbformat_minor": 0
}